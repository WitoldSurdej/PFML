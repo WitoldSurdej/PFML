{
  "nbformat": 4,
  "nbformat_minor": 0,
  "metadata": {
    "colab": {
      "provenance": [],
      "authorship_tag": "ABX9TyOwjpWZ/kpi6VZOkl3VjrIO"
    },
    "kernelspec": {
      "name": "python3",
      "display_name": "Python 3"
    },
    "language_info": {
      "name": "python"
    }
  },
  "cells": [
    {
      "cell_type": "code",
      "execution_count": 3,
      "metadata": {
        "id": "c72Q0QY5f48t"
      },
      "outputs": [],
      "source": [
        "list1=[1, 2, 3, 4, 5, 6, 7, 8, 9, 0]\n",
        "list2=[0, 9, 8, 7, 6, 5, 4, 3, 2, 1]\n"
      ]
    }
  ]
}