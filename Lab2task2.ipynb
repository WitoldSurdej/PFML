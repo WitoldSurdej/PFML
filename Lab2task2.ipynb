{
  "nbformat": 4,
  "nbformat_minor": 0,
  "metadata": {
    "colab": {
      "provenance": [],
      "authorship_tag": "ABX9TyOVUVRMUqh0CN2Wk+isEqzy",
      "include_colab_link": true
    },
    "kernelspec": {
      "name": "python3",
      "display_name": "Python 3"
    },
    "language_info": {
      "name": "python"
    }
  },
  "cells": [
    {
      "cell_type": "markdown",
      "metadata": {
        "id": "view-in-github",
        "colab_type": "text"
      },
      "source": [
        "<a href=\"https://colab.research.google.com/github/WitoldSurdej/PFML/blob/while_variant/Lab2task2.ipynb\" target=\"_parent\"><img src=\"https://colab.research.google.com/assets/colab-badge.svg\" alt=\"Open In Colab\"/></a>"
      ]
    },
    {
      "cell_type": "code",
      "execution_count": 3,
      "metadata": {
        "id": "c72Q0QY5f48t"
      },
      "outputs": [],
      "source": [
        "list1=[1, 2, 3, 4, 5, 6, 7, 8, 9, 0]\n",
        "list2=[0, 9, 8, 7, 6, 5, 4, 3, 2, 1]\n"
      ]
    },
    {
      "cell_type": "code",
      "source": [
        "i=0\n",
        "while i < len(list2):\n",
        "    print(f'{i+1} element of the list is {list2[i]}')\n",
        "    i+=1\n"
      ],
      "metadata": {
        "colab": {
          "base_uri": "https://localhost:8080/"
        },
        "id": "aAmsAlokhkx-",
        "outputId": "ab699e84-ca52-473c-8924-197fa39f509e"
      },
      "execution_count": 11,
      "outputs": [
        {
          "output_type": "stream",
          "name": "stdout",
          "text": [
            "1 element of the list is 0\n",
            "2 element of the list is 9\n",
            "3 element of the list is 8\n",
            "4 element of the list is 7\n",
            "5 element of the list is 6\n",
            "6 element of the list is 5\n",
            "7 element of the list is 4\n",
            "8 element of the list is 3\n",
            "9 element of the list is 2\n",
            "10 element of the list is 1\n"
          ]
        }
      ]
    }
  ]
}