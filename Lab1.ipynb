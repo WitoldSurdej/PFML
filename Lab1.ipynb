{
  "nbformat": 4,
  "nbformat_minor": 0,
  "metadata": {
    "colab": {
      "provenance": [],
      "authorship_tag": "ABX9TyMboGj1InM+7j8TN3Qkj1k9",
      "include_colab_link": true
    },
    "kernelspec": {
      "name": "python3",
      "display_name": "Python 3"
    },
    "language_info": {
      "name": "python"
    }
  },
  "cells": [
    {
      "cell_type": "markdown",
      "metadata": {
        "id": "view-in-github",
        "colab_type": "text"
      },
      "source": [
        "<a href=\"https://colab.research.google.com/github/WitoldSurdej/PFML/blob/Lab_reports/Lab1.ipynb\" target=\"_parent\"><img src=\"https://colab.research.google.com/assets/colab-badge.svg\" alt=\"Open In Colab\"/></a>"
      ]
    },
    {
      "cell_type": "code",
      "execution_count": null,
      "metadata": {
        "id": "yx0prgBQrE5P",
        "colab": {
          "base_uri": "https://localhost:8080/"
        },
        "outputId": "c785925a-63f0-49d7-f962-bc0a898cf6bf"
      },
      "outputs": [
        {
          "output_type": "stream",
          "name": "stdout",
          "text": [
            "0.5\n"
          ]
        },
        {
          "output_type": "execute_result",
          "data": {
            "text/plain": [
              "3"
            ]
          },
          "metadata": {},
          "execution_count": 13
        }
      ],
      "source": [
        "#task1\n",
        "a=1;\n",
        "b=2;\n",
        "value1= a + b;\n",
        "value2= a/b;\n",
        "print(value1) #using print\n",
        "value2 #using built in disp"
      ]
    },
    {
      "cell_type": "code",
      "source": [
        "#task2.1\n",
        "import random\n",
        "n=random.random(); #generating initial random number\n",
        "c=1; #iteration counter\n",
        "\n",
        "while n < 0.8:\n",
        "  n=random.random();\n",
        "  c+=1;\n",
        "print(f'we have suceeded after {c} iterations')\n",
        "n #check if nb is >0.8\n",
        "\n",
        "#task2.2\n",
        "\n",
        "#to get 0.8+ we assume lucky is at most 1/5 chance\n",
        "\n",
        "if (c<=5):\n",
        "  print('Lucky!')\n",
        "elif (c>5):\n",
        "  print('Unlucky!')"
      ],
      "metadata": {
        "colab": {
          "base_uri": "https://localhost:8080/"
        },
        "id": "M7m-vREls59B",
        "outputId": "7b4e98b8-68d4-4185-e71a-468a0ff6b745"
      },
      "execution_count": null,
      "outputs": [
        {
          "output_type": "stream",
          "name": "stdout",
          "text": [
            "we have suceeded after 5 iterations\n",
            "Lucky!\n"
          ]
        }
      ]
    },
    {
      "cell_type": "code",
      "source": [
        "#task3\n",
        "\n",
        "def check_luck(t):\n",
        "    c=1\n",
        "    n=random.random();\n",
        "    while n < t:\n",
        "      n=random.random();\n",
        "      c+=1;\n",
        "    if (c<=1/(1-t)):\n",
        "      print('Lucky!')\n",
        "    elif (c>1/(1-t)):\n",
        "      print('Unlucky!')\n",
        "    return n, c"
      ],
      "metadata": {
        "id": "qI95MMpcv1cb"
      },
      "execution_count": null,
      "outputs": []
    },
    {
      "cell_type": "code",
      "source": [
        "check_luck(0.8)"
      ],
      "metadata": {
        "colab": {
          "base_uri": "https://localhost:8080/"
        },
        "id": "74UayNQiz_xB",
        "outputId": "d851f960-a18a-4a63-f387-8c730e95531d"
      },
      "execution_count": null,
      "outputs": [
        {
          "output_type": "stream",
          "name": "stdout",
          "text": [
            "Lucky!\n"
          ]
        },
        {
          "output_type": "execute_result",
          "data": {
            "text/plain": [
              "(0.8522006355920346, 5)"
            ]
          },
          "metadata": {},
          "execution_count": 38
        }
      ]
    },
    {
      "cell_type": "code",
      "source": [
        "#task4\n",
        "from math import sqrt\n",
        "#consts\n",
        "x=0\n",
        "x1=0\n",
        "x2=0\n",
        "a=3\n",
        "b=-4\n",
        "c=-2\n",
        "#calculating determinant\n",
        "delta=b**2-4*a*c\n",
        "\n",
        "if (delta>0):\n",
        "  x1=(-b-sqrt(delta))/2*a\n",
        "  x2=(-b+sqrt(delta))/2*a\n",
        "  print(f'there are 2 solutions x1={x1}, and x2={x2}')\n",
        "elif (delta<0):\n",
        "  print(f'there are no real solutions')\n",
        "if (delta==0):\n",
        "  x=-b/2*a\n",
        "  print(f'there is one solution x={x}')"
      ],
      "metadata": {
        "colab": {
          "base_uri": "https://localhost:8080/"
        },
        "id": "92SfudQI02CN",
        "outputId": "67fad635-7d54-4ef2-caaa-bfe0a3627cc1"
      },
      "execution_count": null,
      "outputs": [
        {
          "output_type": "stream",
          "name": "stdout",
          "text": [
            "there are 2 solutions x1=-3.4868329805051386, and x2=15.48683298050514\n"
          ]
        }
      ]
    },
    {
      "cell_type": "code",
      "source": [
        "#task5\n",
        "\n",
        "def solve_square(a, b, c):\n",
        "  #consts\n",
        "  x=0\n",
        "  x1=0\n",
        "  x2=0\n",
        "  #calculating determinant\n",
        "  delta=b**2-4*a*c\n",
        "  if (delta>0):\n",
        "    x1=(-b-sqrt(delta))/2*a\n",
        "    x2=(-b+sqrt(delta))/2*a\n",
        "    print(f'there are 2 solutions x1={x1}, and x2={x2}')\n",
        "    return\n",
        "  elif (delta<0):\n",
        "    print(f'there are no real solutions')\n",
        "    return\n",
        "  if (delta==0):\n",
        "    x=-b/2*a\n",
        "    print(f'there is one solution x={x}')\n",
        "    return\n"
      ],
      "metadata": {
        "id": "9Mv6s1sF3mvJ"
      },
      "execution_count": null,
      "outputs": []
    },
    {
      "cell_type": "code",
      "source": [
        "solve_square(2,-6,10)"
      ],
      "metadata": {
        "colab": {
          "base_uri": "https://localhost:8080/"
        },
        "id": "3uR88PoO4C_2",
        "outputId": "a3603fa6-d4a4-41bb-95ce-3294dc3dd271"
      },
      "execution_count": null,
      "outputs": [
        {
          "output_type": "stream",
          "name": "stdout",
          "text": [
            "there are no real solutions\n"
          ]
        }
      ]
    },
    {
      "cell_type": "code",
      "source": [
        "#task6\n",
        "\n",
        "import numpy as np\n",
        "values1 = np.random.rand(20)\n",
        "values2 = np.random.rand(20)"
      ],
      "metadata": {
        "id": "RJCCWMy24ntD"
      },
      "execution_count": null,
      "outputs": []
    },
    {
      "cell_type": "code",
      "source": [
        "#initializing empty lists\n",
        "list1=[] #lower than .5\n",
        "list2=[] #higher then .5\n",
        "source1=[]\n",
        "source2=[]\n",
        "list3_1=[]\n",
        "list3_2=[]\n",
        "values= np.concatenate([values1, values2], axis=0)  #combining vectors, has to be done with numpy function\n",
        "for i in range(len(values)):\n",
        "  if (values[i]<0.5):\n",
        "    list1.append(values[i])\n",
        "    if (i < 20):\n",
        "      list3_1.append(1)\n",
        "    if (i > 19):\n",
        "      list3_1.append(2)\n",
        "  elif (values[i]>=0.5):\n",
        "    list2.append(values[i])\n",
        "    if (i < 21):\n",
        "      list3_2.append(1)\n",
        "    if (i > 21):\n",
        "      list3_2.append(2)\n",
        "print(list1)\n",
        "print(list2)\n",
        "print(list3_1)\n",
        "print(list3_2)\n",
        "a=len(list1)\n",
        "b=len(list2)\n",
        "print(f'the 1st list contains {a} elements and 2nd list {b} elements')"
      ],
      "metadata": {
        "colab": {
          "base_uri": "https://localhost:8080/"
        },
        "id": "Z_vWIdQd5zMG",
        "outputId": "5edf77e7-4f9f-450f-c439-9c6c35f02b92"
      },
      "execution_count": null,
      "outputs": [
        {
          "output_type": "stream",
          "name": "stdout",
          "text": [
            "[0.24959557842108782, 0.2581715081109185, 0.4139055055595171, 0.2826148620150729, 0.11940390162271064, 0.15023834986915374, 0.14104197211653147, 0.11801767393024576, 0.4021417445000115, 0.21979790991173076, 0.495652882989817, 0.2820132524911202, 0.4882220583420386, 0.31010679724275414, 0.20675582619496669, 0.434171041740091, 0.35747140114209086, 0.1420514360012981]\n",
            "[0.6385648032591126, 0.9012803838424482, 0.8114897156322359, 0.829255378766343, 0.6698565702183306, 0.9934828727917636, 0.5896312987584267, 0.6640115983314864, 0.6050901066238646, 0.6381746465747832, 0.9140467156140857, 0.7263367125543254, 0.7169753616929145, 0.5711168376909379, 0.5722927385872537, 0.5315114501908405, 0.9245968070327966, 0.9188282116217917, 0.9544870161144688, 0.5539354812506475, 0.9966359012513145, 0.8629076826359829]\n",
            "[1, 1, 1, 1, 1, 1, 1, 1, 1, 2, 2, 2, 2, 2, 2, 2, 2, 2]\n",
            "[1, 1, 1, 1, 1, 1, 1, 1, 1, 1, 1, 1, 2, 2, 2, 2, 2, 2, 2, 2, 2, 2]\n",
            "the 1st list contains 18 elements and 2nd list 22 elements\n"
          ]
        }
      ]
    },
    {
      "cell_type": "code",
      "source": [
        "#task7\n",
        "order=np.argsort(list1)\n",
        "order2=np.argsort(list2)\n",
        "\n",
        "for iteration_no, index in enumerate(order):\n",
        " print(f'{iteration_no} place, num #{index}, value {list1[index]}')\n",
        "print('\\n')\n",
        "for iteration_no, index in enumerate(order2):\n",
        " print(f'{iteration_no} place, num #{index}, value {list2[index]}')"
      ],
      "metadata": {
        "colab": {
          "base_uri": "https://localhost:8080/"
        },
        "id": "nKPCGQAM6Ko1",
        "outputId": "24f7cfc8-16c1-4775-944f-f9ee85baa32a"
      },
      "execution_count": null,
      "outputs": [
        {
          "output_type": "stream",
          "name": "stdout",
          "text": [
            "([0.24959557842108782, 0.2581715081109185, 0.4139055055595171, 0.2826148620150729, 0.11940390162271064, 0.15023834986915374, 0.14104197211653147, 0.11801767393024576, 0.4021417445000115, 0.21979790991173076, 0.495652882989817, 0.2820132524911202, 0.4882220583420386, 0.31010679724275414, 0.20675582619496669, 0.434171041740091, 0.35747140114209086, 0.1420514360012981], [1, 1, 1, 1, 1, 1, 1, 1, 1, 1, 1, 1, 1, 1, 1, 1, 1])\n",
            "0 place, num #7, value 0.11801767393024576\n",
            "1 place, num #4, value 0.11940390162271064\n",
            "2 place, num #6, value 0.14104197211653147\n",
            "3 place, num #17, value 0.1420514360012981\n",
            "4 place, num #5, value 0.15023834986915374\n",
            "5 place, num #14, value 0.20675582619496669\n",
            "6 place, num #9, value 0.21979790991173076\n",
            "7 place, num #0, value 0.24959557842108782\n",
            "8 place, num #1, value 0.2581715081109185\n",
            "9 place, num #11, value 0.2820132524911202\n",
            "10 place, num #3, value 0.2826148620150729\n",
            "11 place, num #13, value 0.31010679724275414\n",
            "12 place, num #16, value 0.35747140114209086\n",
            "13 place, num #8, value 0.4021417445000115\n",
            "14 place, num #2, value 0.4139055055595171\n",
            "15 place, num #15, value 0.434171041740091\n",
            "16 place, num #12, value 0.4882220583420386\n",
            "17 place, num #10, value 0.495652882989817\n",
            "\n",
            "\n",
            "0 place, num #15, value 0.5315114501908405\n",
            "1 place, num #19, value 0.5539354812506475\n",
            "2 place, num #13, value 0.5711168376909379\n",
            "3 place, num #14, value 0.5722927385872537\n",
            "4 place, num #6, value 0.5896312987584267\n",
            "5 place, num #8, value 0.6050901066238646\n",
            "6 place, num #9, value 0.6381746465747832\n",
            "7 place, num #0, value 0.6385648032591126\n",
            "8 place, num #7, value 0.6640115983314864\n",
            "9 place, num #4, value 0.6698565702183306\n",
            "10 place, num #12, value 0.7169753616929145\n",
            "11 place, num #11, value 0.7263367125543254\n",
            "12 place, num #2, value 0.8114897156322359\n",
            "13 place, num #3, value 0.829255378766343\n",
            "14 place, num #21, value 0.8629076826359829\n",
            "15 place, num #1, value 0.9012803838424482\n",
            "16 place, num #10, value 0.9140467156140857\n",
            "17 place, num #17, value 0.9188282116217917\n",
            "18 place, num #16, value 0.9245968070327966\n",
            "19 place, num #18, value 0.9544870161144688\n",
            "20 place, num #5, value 0.9934828727917636\n",
            "21 place, num #20, value 0.9966359012513145\n"
          ]
        }
      ]
    },
    {
      "cell_type": "code",
      "source": [
        "for value, origin in zip(list1, list3_1):\n",
        "  print(value, origin)"
      ],
      "metadata": {
        "colab": {
          "base_uri": "https://localhost:8080/"
        },
        "id": "-oBOmmkRGanr",
        "outputId": "0ba3ed2f-9905-4b0a-ed32-d9b5f3684bf4"
      },
      "execution_count": null,
      "outputs": [
        {
          "output_type": "stream",
          "name": "stdout",
          "text": [
            "0.24959557842108782 1\n",
            "0.2581715081109185 1\n",
            "0.4139055055595171 1\n",
            "0.2826148620150729 1\n",
            "0.11940390162271064 1\n",
            "0.15023834986915374 1\n",
            "0.14104197211653147 1\n",
            "0.11801767393024576 1\n",
            "0.4021417445000115 1\n",
            "0.21979790991173076 2\n",
            "0.495652882989817 2\n",
            "0.2820132524911202 2\n",
            "0.4882220583420386 2\n",
            "0.31010679724275414 2\n",
            "0.20675582619496669 2\n",
            "0.434171041740091 2\n",
            "0.35747140114209086 2\n",
            "0.1420514360012981 2\n"
          ]
        }
      ]
    },
    {
      "cell_type": "code",
      "source": [
        "for value, origin in zip(list2, list3_2):\n",
        "  print(value, origin)"
      ],
      "metadata": {
        "colab": {
          "base_uri": "https://localhost:8080/"
        },
        "id": "Kpt6lvZ5GnKx",
        "outputId": "3adf5ab3-5e1f-4fc9-9567-89ff4f1c2b7d"
      },
      "execution_count": null,
      "outputs": [
        {
          "output_type": "stream",
          "name": "stdout",
          "text": [
            "0.6385648032591126 1\n",
            "0.9012803838424482 1\n",
            "0.8114897156322359 1\n",
            "0.829255378766343 1\n",
            "0.6698565702183306 1\n",
            "0.9934828727917636 1\n",
            "0.5896312987584267 1\n",
            "0.6640115983314864 1\n",
            "0.6050901066238646 1\n",
            "0.6381746465747832 1\n",
            "0.9140467156140857 1\n",
            "0.7263367125543254 1\n",
            "0.7169753616929145 2\n",
            "0.5711168376909379 2\n",
            "0.5722927385872537 2\n",
            "0.5315114501908405 2\n",
            "0.9245968070327966 2\n",
            "0.9188282116217917 2\n",
            "0.9544870161144688 2\n",
            "0.5539354812506475 2\n",
            "0.9966359012513145 2\n",
            "0.8629076826359829 2\n"
          ]
        }
      ]
    }
  ]
}