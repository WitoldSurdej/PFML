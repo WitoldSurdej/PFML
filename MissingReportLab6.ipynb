{
  "nbformat": 4,
  "nbformat_minor": 0,
  "metadata": {
    "colab": {
      "provenance": [],
      "authorship_tag": "ABX9TyPcEfkJ8y0r+1TCNlKVj2eS",
      "include_colab_link": true
    },
    "kernelspec": {
      "name": "python3",
      "display_name": "Python 3"
    },
    "language_info": {
      "name": "python"
    }
  },
  "cells": [
    {
      "cell_type": "markdown",
      "metadata": {
        "id": "view-in-github",
        "colab_type": "text"
      },
      "source": [
        "<a href=\"https://colab.research.google.com/github/WitoldSurdej/PFML/blob/master/MissingReportLab6.ipynb\" target=\"_parent\"><img src=\"https://colab.research.google.com/assets/colab-badge.svg\" alt=\"Open In Colab\"/></a>"
      ]
    },
    {
      "cell_type": "code",
      "source": [
        "import pandas as pd\n",
        "import matplotlib.pyplot as plt\n",
        "import seaborn as sns\n",
        "import numpy as np\n",
        "import sklearn"
      ],
      "metadata": {
        "id": "JbBawpxgkUZ8"
      },
      "execution_count": null,
      "outputs": []
    },
    {
      "cell_type": "code",
      "execution_count": 7,
      "metadata": {
        "colab": {
          "base_uri": "https://localhost:8080/",
          "height": 206
        },
        "id": "ZDmtLTGzkEyN",
        "outputId": "a510e207-8db8-4fc7-bb4d-aa9ebd53afe3"
      },
      "outputs": [
        {
          "output_type": "execute_result",
          "data": {
            "text/plain": [
              "   fixed acidity  volatile acidity  citric acid  residual sugar  chlorides  \\\n",
              "0            7.4              0.70         0.00             1.9      0.076   \n",
              "1            7.8              0.88         0.00             2.6      0.098   \n",
              "2            7.8              0.76         0.04             2.3      0.092   \n",
              "3           11.2              0.28         0.56             1.9      0.075   \n",
              "4            7.4              0.70         0.00             1.9      0.076   \n",
              "\n",
              "   free sulfur dioxide  total sulfur dioxide  density    pH  sulphates  \\\n",
              "0                 11.0                  34.0   0.9978  3.51       0.56   \n",
              "1                 25.0                  67.0   0.9968  3.20       0.68   \n",
              "2                 15.0                  54.0   0.9970  3.26       0.65   \n",
              "3                 17.0                  60.0   0.9980  3.16       0.58   \n",
              "4                 11.0                  34.0   0.9978  3.51       0.56   \n",
              "\n",
              "   alcohol  quality  \n",
              "0      9.4        5  \n",
              "1      9.8        5  \n",
              "2      9.8        5  \n",
              "3      9.8        6  \n",
              "4      9.4        5  "
            ],
            "text/html": [
              "\n",
              "  <div id=\"df-92c0c36b-489f-4251-b6c1-103c1a01b084\" class=\"colab-df-container\">\n",
              "    <div>\n",
              "<style scoped>\n",
              "    .dataframe tbody tr th:only-of-type {\n",
              "        vertical-align: middle;\n",
              "    }\n",
              "\n",
              "    .dataframe tbody tr th {\n",
              "        vertical-align: top;\n",
              "    }\n",
              "\n",
              "    .dataframe thead th {\n",
              "        text-align: right;\n",
              "    }\n",
              "</style>\n",
              "<table border=\"1\" class=\"dataframe\">\n",
              "  <thead>\n",
              "    <tr style=\"text-align: right;\">\n",
              "      <th></th>\n",
              "      <th>fixed acidity</th>\n",
              "      <th>volatile acidity</th>\n",
              "      <th>citric acid</th>\n",
              "      <th>residual sugar</th>\n",
              "      <th>chlorides</th>\n",
              "      <th>free sulfur dioxide</th>\n",
              "      <th>total sulfur dioxide</th>\n",
              "      <th>density</th>\n",
              "      <th>pH</th>\n",
              "      <th>sulphates</th>\n",
              "      <th>alcohol</th>\n",
              "      <th>quality</th>\n",
              "    </tr>\n",
              "  </thead>\n",
              "  <tbody>\n",
              "    <tr>\n",
              "      <th>0</th>\n",
              "      <td>7.4</td>\n",
              "      <td>0.70</td>\n",
              "      <td>0.00</td>\n",
              "      <td>1.9</td>\n",
              "      <td>0.076</td>\n",
              "      <td>11.0</td>\n",
              "      <td>34.0</td>\n",
              "      <td>0.9978</td>\n",
              "      <td>3.51</td>\n",
              "      <td>0.56</td>\n",
              "      <td>9.4</td>\n",
              "      <td>5</td>\n",
              "    </tr>\n",
              "    <tr>\n",
              "      <th>1</th>\n",
              "      <td>7.8</td>\n",
              "      <td>0.88</td>\n",
              "      <td>0.00</td>\n",
              "      <td>2.6</td>\n",
              "      <td>0.098</td>\n",
              "      <td>25.0</td>\n",
              "      <td>67.0</td>\n",
              "      <td>0.9968</td>\n",
              "      <td>3.20</td>\n",
              "      <td>0.68</td>\n",
              "      <td>9.8</td>\n",
              "      <td>5</td>\n",
              "    </tr>\n",
              "    <tr>\n",
              "      <th>2</th>\n",
              "      <td>7.8</td>\n",
              "      <td>0.76</td>\n",
              "      <td>0.04</td>\n",
              "      <td>2.3</td>\n",
              "      <td>0.092</td>\n",
              "      <td>15.0</td>\n",
              "      <td>54.0</td>\n",
              "      <td>0.9970</td>\n",
              "      <td>3.26</td>\n",
              "      <td>0.65</td>\n",
              "      <td>9.8</td>\n",
              "      <td>5</td>\n",
              "    </tr>\n",
              "    <tr>\n",
              "      <th>3</th>\n",
              "      <td>11.2</td>\n",
              "      <td>0.28</td>\n",
              "      <td>0.56</td>\n",
              "      <td>1.9</td>\n",
              "      <td>0.075</td>\n",
              "      <td>17.0</td>\n",
              "      <td>60.0</td>\n",
              "      <td>0.9980</td>\n",
              "      <td>3.16</td>\n",
              "      <td>0.58</td>\n",
              "      <td>9.8</td>\n",
              "      <td>6</td>\n",
              "    </tr>\n",
              "    <tr>\n",
              "      <th>4</th>\n",
              "      <td>7.4</td>\n",
              "      <td>0.70</td>\n",
              "      <td>0.00</td>\n",
              "      <td>1.9</td>\n",
              "      <td>0.076</td>\n",
              "      <td>11.0</td>\n",
              "      <td>34.0</td>\n",
              "      <td>0.9978</td>\n",
              "      <td>3.51</td>\n",
              "      <td>0.56</td>\n",
              "      <td>9.4</td>\n",
              "      <td>5</td>\n",
              "    </tr>\n",
              "  </tbody>\n",
              "</table>\n",
              "</div>\n",
              "    <div class=\"colab-df-buttons\">\n",
              "\n",
              "  <div class=\"colab-df-container\">\n",
              "    <button class=\"colab-df-convert\" onclick=\"convertToInteractive('df-92c0c36b-489f-4251-b6c1-103c1a01b084')\"\n",
              "            title=\"Convert this dataframe to an interactive table.\"\n",
              "            style=\"display:none;\">\n",
              "\n",
              "  <svg xmlns=\"http://www.w3.org/2000/svg\" height=\"24px\" viewBox=\"0 -960 960 960\">\n",
              "    <path d=\"M120-120v-720h720v720H120Zm60-500h600v-160H180v160Zm220 220h160v-160H400v160Zm0 220h160v-160H400v160ZM180-400h160v-160H180v160Zm440 0h160v-160H620v160ZM180-180h160v-160H180v160Zm440 0h160v-160H620v160Z\"/>\n",
              "  </svg>\n",
              "    </button>\n",
              "\n",
              "  <style>\n",
              "    .colab-df-container {\n",
              "      display:flex;\n",
              "      gap: 12px;\n",
              "    }\n",
              "\n",
              "    .colab-df-convert {\n",
              "      background-color: #E8F0FE;\n",
              "      border: none;\n",
              "      border-radius: 50%;\n",
              "      cursor: pointer;\n",
              "      display: none;\n",
              "      fill: #1967D2;\n",
              "      height: 32px;\n",
              "      padding: 0 0 0 0;\n",
              "      width: 32px;\n",
              "    }\n",
              "\n",
              "    .colab-df-convert:hover {\n",
              "      background-color: #E2EBFA;\n",
              "      box-shadow: 0px 1px 2px rgba(60, 64, 67, 0.3), 0px 1px 3px 1px rgba(60, 64, 67, 0.15);\n",
              "      fill: #174EA6;\n",
              "    }\n",
              "\n",
              "    .colab-df-buttons div {\n",
              "      margin-bottom: 4px;\n",
              "    }\n",
              "\n",
              "    [theme=dark] .colab-df-convert {\n",
              "      background-color: #3B4455;\n",
              "      fill: #D2E3FC;\n",
              "    }\n",
              "\n",
              "    [theme=dark] .colab-df-convert:hover {\n",
              "      background-color: #434B5C;\n",
              "      box-shadow: 0px 1px 3px 1px rgba(0, 0, 0, 0.15);\n",
              "      filter: drop-shadow(0px 1px 2px rgba(0, 0, 0, 0.3));\n",
              "      fill: #FFFFFF;\n",
              "    }\n",
              "  </style>\n",
              "\n",
              "    <script>\n",
              "      const buttonEl =\n",
              "        document.querySelector('#df-92c0c36b-489f-4251-b6c1-103c1a01b084 button.colab-df-convert');\n",
              "      buttonEl.style.display =\n",
              "        google.colab.kernel.accessAllowed ? 'block' : 'none';\n",
              "\n",
              "      async function convertToInteractive(key) {\n",
              "        const element = document.querySelector('#df-92c0c36b-489f-4251-b6c1-103c1a01b084');\n",
              "        const dataTable =\n",
              "          await google.colab.kernel.invokeFunction('convertToInteractive',\n",
              "                                                    [key], {});\n",
              "        if (!dataTable) return;\n",
              "\n",
              "        const docLinkHtml = 'Like what you see? Visit the ' +\n",
              "          '<a target=\"_blank\" href=https://colab.research.google.com/notebooks/data_table.ipynb>data table notebook</a>'\n",
              "          + ' to learn more about interactive tables.';\n",
              "        element.innerHTML = '';\n",
              "        dataTable['output_type'] = 'display_data';\n",
              "        await google.colab.output.renderOutput(dataTable, element);\n",
              "        const docLink = document.createElement('div');\n",
              "        docLink.innerHTML = docLinkHtml;\n",
              "        element.appendChild(docLink);\n",
              "      }\n",
              "    </script>\n",
              "  </div>\n",
              "\n",
              "\n",
              "<div id=\"df-facd6790-e9f3-40d4-bbc2-a8c1683e5a7b\">\n",
              "  <button class=\"colab-df-quickchart\" onclick=\"quickchart('df-facd6790-e9f3-40d4-bbc2-a8c1683e5a7b')\"\n",
              "            title=\"Suggest charts\"\n",
              "            style=\"display:none;\">\n",
              "\n",
              "<svg xmlns=\"http://www.w3.org/2000/svg\" height=\"24px\"viewBox=\"0 0 24 24\"\n",
              "     width=\"24px\">\n",
              "    <g>\n",
              "        <path d=\"M19 3H5c-1.1 0-2 .9-2 2v14c0 1.1.9 2 2 2h14c1.1 0 2-.9 2-2V5c0-1.1-.9-2-2-2zM9 17H7v-7h2v7zm4 0h-2V7h2v10zm4 0h-2v-4h2v4z\"/>\n",
              "    </g>\n",
              "</svg>\n",
              "  </button>\n",
              "\n",
              "<style>\n",
              "  .colab-df-quickchart {\n",
              "      --bg-color: #E8F0FE;\n",
              "      --fill-color: #1967D2;\n",
              "      --hover-bg-color: #E2EBFA;\n",
              "      --hover-fill-color: #174EA6;\n",
              "      --disabled-fill-color: #AAA;\n",
              "      --disabled-bg-color: #DDD;\n",
              "  }\n",
              "\n",
              "  [theme=dark] .colab-df-quickchart {\n",
              "      --bg-color: #3B4455;\n",
              "      --fill-color: #D2E3FC;\n",
              "      --hover-bg-color: #434B5C;\n",
              "      --hover-fill-color: #FFFFFF;\n",
              "      --disabled-bg-color: #3B4455;\n",
              "      --disabled-fill-color: #666;\n",
              "  }\n",
              "\n",
              "  .colab-df-quickchart {\n",
              "    background-color: var(--bg-color);\n",
              "    border: none;\n",
              "    border-radius: 50%;\n",
              "    cursor: pointer;\n",
              "    display: none;\n",
              "    fill: var(--fill-color);\n",
              "    height: 32px;\n",
              "    padding: 0;\n",
              "    width: 32px;\n",
              "  }\n",
              "\n",
              "  .colab-df-quickchart:hover {\n",
              "    background-color: var(--hover-bg-color);\n",
              "    box-shadow: 0 1px 2px rgba(60, 64, 67, 0.3), 0 1px 3px 1px rgba(60, 64, 67, 0.15);\n",
              "    fill: var(--button-hover-fill-color);\n",
              "  }\n",
              "\n",
              "  .colab-df-quickchart-complete:disabled,\n",
              "  .colab-df-quickchart-complete:disabled:hover {\n",
              "    background-color: var(--disabled-bg-color);\n",
              "    fill: var(--disabled-fill-color);\n",
              "    box-shadow: none;\n",
              "  }\n",
              "\n",
              "  .colab-df-spinner {\n",
              "    border: 2px solid var(--fill-color);\n",
              "    border-color: transparent;\n",
              "    border-bottom-color: var(--fill-color);\n",
              "    animation:\n",
              "      spin 1s steps(1) infinite;\n",
              "  }\n",
              "\n",
              "  @keyframes spin {\n",
              "    0% {\n",
              "      border-color: transparent;\n",
              "      border-bottom-color: var(--fill-color);\n",
              "      border-left-color: var(--fill-color);\n",
              "    }\n",
              "    20% {\n",
              "      border-color: transparent;\n",
              "      border-left-color: var(--fill-color);\n",
              "      border-top-color: var(--fill-color);\n",
              "    }\n",
              "    30% {\n",
              "      border-color: transparent;\n",
              "      border-left-color: var(--fill-color);\n",
              "      border-top-color: var(--fill-color);\n",
              "      border-right-color: var(--fill-color);\n",
              "    }\n",
              "    40% {\n",
              "      border-color: transparent;\n",
              "      border-right-color: var(--fill-color);\n",
              "      border-top-color: var(--fill-color);\n",
              "    }\n",
              "    60% {\n",
              "      border-color: transparent;\n",
              "      border-right-color: var(--fill-color);\n",
              "    }\n",
              "    80% {\n",
              "      border-color: transparent;\n",
              "      border-right-color: var(--fill-color);\n",
              "      border-bottom-color: var(--fill-color);\n",
              "    }\n",
              "    90% {\n",
              "      border-color: transparent;\n",
              "      border-bottom-color: var(--fill-color);\n",
              "    }\n",
              "  }\n",
              "</style>\n",
              "\n",
              "  <script>\n",
              "    async function quickchart(key) {\n",
              "      const quickchartButtonEl =\n",
              "        document.querySelector('#' + key + ' button');\n",
              "      quickchartButtonEl.disabled = true;  // To prevent multiple clicks.\n",
              "      quickchartButtonEl.classList.add('colab-df-spinner');\n",
              "      try {\n",
              "        const charts = await google.colab.kernel.invokeFunction(\n",
              "            'suggestCharts', [key], {});\n",
              "      } catch (error) {\n",
              "        console.error('Error during call to suggestCharts:', error);\n",
              "      }\n",
              "      quickchartButtonEl.classList.remove('colab-df-spinner');\n",
              "      quickchartButtonEl.classList.add('colab-df-quickchart-complete');\n",
              "    }\n",
              "    (() => {\n",
              "      let quickchartButtonEl =\n",
              "        document.querySelector('#df-facd6790-e9f3-40d4-bbc2-a8c1683e5a7b button');\n",
              "      quickchartButtonEl.style.display =\n",
              "        google.colab.kernel.accessAllowed ? 'block' : 'none';\n",
              "    })();\n",
              "  </script>\n",
              "</div>\n",
              "    </div>\n",
              "  </div>\n"
            ]
          },
          "metadata": {},
          "execution_count": 7
        }
      ],
      "source": [
        "#importing data\n",
        "data = pd.read_csv('https://raw.githubusercontent.com/WitoldSurdej/PFML/master/wqr.csv',sep= ';')\n",
        "data.head()"
      ]
    },
    {
      "cell_type": "markdown",
      "source": [
        "***Task1***"
      ],
      "metadata": {
        "id": "MceQCkFrmneh"
      }
    },
    {
      "cell_type": "code",
      "source": [
        "from sklearn.linear_model import LinearRegression\n",
        "from sklearn.preprocessing import MinMaxScaler\n",
        "from sklearn.model_selection import train_test_split"
      ],
      "metadata": {
        "id": "GPsR_W74m_F8"
      },
      "execution_count": 10,
      "outputs": []
    },
    {
      "cell_type": "code",
      "source": [
        "#preparing data for splitting, taking \"quality\" as dependant variable, and all the others as independant.\n",
        "#using DataFrame.loc to Access a group of rows and columns by labels\n",
        "X1=data.loc[:,data.columns != 'quality' ]\n",
        "y=data['quality']\n",
        "\n",
        "#nurmalizing the data for better readability\n",
        "minmax_scaler = MinMaxScaler().set_output(transform=\"pandas\")\n",
        "X1_normalized = minmax_scaler.fit_transform(X1)\n",
        "#X1_normalized.head()\n",
        "\n",
        "#splitting the data into train, test, validation with proportions: 49,30,21, using random_state=42 to maintain repeatability\n",
        "X_train, X_test, y_train, y_test = train_test_split(X1_normalized,y,test_size = 0.3,random_state = 42)\n",
        "X_train1, X_val, y_train1, y_val = train_test_split(X_train,y_train,test_size = 0.3,random_state = 42)\n",
        "\n",
        "#creating the regressor\n",
        "lin_reg = LinearRegression()\n",
        "\n",
        "#fitting the curve\n",
        "lin_reg.fit(X_train1, y_train1)\n",
        "\n",
        "#predicting the results on training data\n",
        "y_pred_train_lin = lin_reg.predict(X_train1)\n",
        "\n",
        "#predicting the results on validation data\n",
        "y_pred_val_lin = lin_reg.predict(X_val)\n",
        "\n",
        "#calculating RMSE for both predictions\n",
        "rme_training_lin = sklearn.metrics.mean_squared_error(y_train1,y_pred_train_lin)\n",
        "rme_val_lin = sklearn.metrics.mean_squared_error(y_val,y_pred_val_lin)\n",
        "print(f'RMSE Train={rme_training_lin}')\n",
        "print(f'RMSE Val={rme_val_lin}')"
      ],
      "metadata": {
        "colab": {
          "base_uri": "https://localhost:8080/"
        },
        "id": "lLpDyoPBlefA",
        "outputId": "96af43a8-1992-4346-84c3-9ff78074c16d"
      },
      "execution_count": 23,
      "outputs": [
        {
          "output_type": "stream",
          "name": "stdout",
          "text": [
            "RMSE Train=0.41399613768919474\n",
            "RMSE Val=0.46459500498121065\n"
          ]
        }
      ]
    },
    {
      "cell_type": "markdown",
      "source": [
        "RMSE did not substantially increase on the validation dataset, which means that the regression curve was most likely properly fitted, on the other hand the RMSE is large, which indicates that the relationships between features and dependant variable are most likely non linear. Model is too simple."
      ],
      "metadata": {
        "id": "NvL1XVyxr7jH"
      }
    },
    {
      "cell_type": "markdown",
      "source": [
        "***Task2***"
      ],
      "metadata": {
        "id": "whUUeKH0sijN"
      }
    },
    {
      "cell_type": "code",
      "source": [
        "# Create equal weights and then increase the weights in the area we want better performance (the last 2 data points)\n",
        "sample_weight = np.ones(len(X_train1))\n",
        "sample_weight[-2:] *= 30\n",
        "\n",
        "#creating the regressor\n",
        "lin_reg_weighted = LinearRegression()\n",
        "\n",
        "#fitting the curve\n",
        "lin_reg_weighted.fit(X_train1, y_train1, sample_weight)\n",
        "\n",
        "#predicting the results on training data\n",
        "y_pred_train_lin_weighted = lin_reg_weighted.predict(X_train1)\n",
        "\n",
        "#predicting the results on validation data\n",
        "y_pred_val_lin_weighted = lin_reg_weighted.predict(X_val)\n",
        "\n",
        "#calculating RMSE for both predictions\n",
        "rme_training_lin_weighted = sklearn.metrics.mean_squared_error(y_train1,y_pred_train_lin_weighted)\n",
        "rme_val_lin_weighted = sklearn.metrics.mean_squared_error(y_val,y_pred_val_lin_weighted)\n",
        "print(f'RMSE Train={rme_training_lin_weighted}')\n",
        "print(f'RMSE Val={rme_val_lin_weighted}')"
      ],
      "metadata": {
        "colab": {
          "base_uri": "https://localhost:8080/"
        },
        "id": "j5QZiV3doXRv",
        "outputId": "dd783dee-5bc0-48ba-8172-d2a95d3b8cb6"
      },
      "execution_count": 32,
      "outputs": [
        {
          "output_type": "stream",
          "name": "stdout",
          "text": [
            "RMSE Train=0.41655685445963153\n",
            "RMSE Val=0.4760399464654522\n"
          ]
        }
      ]
    },
    {
      "cell_type": "markdown",
      "source": [
        "sample_weight: array-like of shape (n_samples,), default=None - Individual weights for each sample.\n",
        "\n",
        "In our case we have assigned increased weights to the last two samples. The result is that the model becomes MORE PRECISE around them, but for more complex datasets, it can increase error in areas of our feature space.\n",
        "\n",
        "the weights enable training a model that is more accurate for certain values of the input. We can use them to improve performance in the zones where the cost of error is higher."
      ],
      "metadata": {
        "id": "g5HmLi2yuSjD"
      }
    },
    {
      "cell_type": "markdown",
      "source": [
        "***Task3***"
      ],
      "metadata": {
        "id": "q09tBdLKywFn"
      }
    },
    {
      "cell_type": "code",
      "source": [
        "from sklearn.neural_network import MLPRegressor"
      ],
      "metadata": {
        "id": "85qCnHSjyyaS"
      },
      "execution_count": 34,
      "outputs": []
    },
    {
      "cell_type": "code",
      "source": [
        "#Default MLP\n",
        "\n",
        "#defining parameters\n",
        "reg_MLP1 = MLPRegressor(random_state=1, max_iter=500)\n",
        "\n",
        "#fitting\n",
        "reg_MLP1.fit(X_train1, y_train1)\n",
        "\n",
        "#predicting\n",
        "y_pred_train_MLP1 = reg_MLP1.predict(X_train1)\n",
        "y_pred_MLP1 = reg_MLP1.predict(X_val)\n",
        "\n",
        "#calculating results and displaying them\n",
        "rme_training_MLP1=sklearn.metrics.mean_squared_error(y_train1,y_pred_train_MLP1)\n",
        "rme_val_MLP1=sklearn.metrics.mean_squared_error(y_val,y_pred_MLP1)\n",
        "print(f'rme_training_def={rme_training_MLP1}')\n",
        "print(f'rme_val_def={rme_val_MLP1}')\n",
        "\n",
        "#Customized MLP (adjusted number of layers, solver, iterations etc)\n",
        "\n",
        "#defining parameters\n",
        "reg_MLP2 = MLPRegressor(hidden_layer_sizes=(20,10,8, 5), random_state=1,\n",
        "max_iter=1000, solver='sgd',activation='relu',learning_rate='adaptive',early_stopping=True,validation_fraction=0.3)\n",
        "\n",
        "#fitting\n",
        "reg_MLP2.fit(X_train1, y_train1)\n",
        "\n",
        "#predicting\n",
        "y_pred_train_MLP2 = reg_MLP2.predict(X_train1)\n",
        "y_pred_MLP2 = reg_MLP2.predict(X_val)\n",
        "\n",
        "#calculating results and displaying them\n",
        "rme_training_MLP2=sklearn.metrics.mean_squared_error(y_train1,y_pred_train_MLP2)\n",
        "rme_val_MLP2=sklearn.metrics.mean_squared_error(y_val,y_pred_MLP2)\n",
        "print(f'rme_training_mod={rme_training_MLP2}')\n",
        "print(f'rme_val_mod={rme_val_MLP2}')"
      ],
      "metadata": {
        "colab": {
          "base_uri": "https://localhost:8080/"
        },
        "id": "J05yyyLezQV4",
        "outputId": "855ef789-22e7-405f-fee4-c1efecd948e3"
      },
      "execution_count": 37,
      "outputs": [
        {
          "output_type": "stream",
          "name": "stdout",
          "text": [
            "rme_training=0.40805021553509857\n",
            "rme_val=0.45264827707440747\n",
            "rme_training=0.4358078736080623\n",
            "rme_val=0.41918626499871836\n"
          ]
        }
      ]
    },
    {
      "cell_type": "markdown",
      "source": [
        "We can see that after adjustments the performance improved on validation dataset"
      ],
      "metadata": {
        "id": "J_3lCw4z1wKi"
      }
    },
    {
      "cell_type": "markdown",
      "source": [
        "***Lab4***"
      ],
      "metadata": {
        "id": "oqc0HePN2LhR"
      }
    },
    {
      "cell_type": "code",
      "source": [
        "from sklearn.preprocessing import PolynomialFeatures\n",
        "from sklearn.metrics import mean_squared_error"
      ],
      "metadata": {
        "id": "nC83K8aP2w2Z"
      },
      "execution_count": 39,
      "outputs": []
    },
    {
      "cell_type": "code",
      "source": [
        "#creating our polynomial features. We want to test different number of features for each of the 4 different nb of degrees\n",
        "poly2 = PolynomialFeatures(degree=3, include_bias=True)\n",
        "\n",
        "#fitting the data into a model and transforming it into a form that is more suitable for the model\n",
        "poly_features = poly2.fit_transform(X1_normalized)\n",
        "\n",
        "#splitting the data\n",
        "X_train, X_test, y_train, y_test = train_test_split(poly_features, y, test_size=0.3, random_state=42)\n",
        "X1_train1, X1_validation, y1_train1, y1_validation = train_test_split(X_train, y_train, test_size = 0.3, random_state=42)\n",
        "\n",
        "#creating and fitting the model\n",
        "poly_reg_model = LinearRegression(fit_intercept=True)\n",
        "poly_reg_model.fit(X_train, y_train)\n",
        "\n",
        "#testing the results\n",
        "poly_reg_y_predicted_training = poly_reg_model.predict(X1_train1)\n",
        "poly_reg_y_predicted_validation = poly_reg_model.predict(X1_validation)\n",
        "poly_reg_mse_training = mean_squared_error(y1_train1, poly_reg_y_predicted_training)\n",
        "poly_reg_mse_validation = mean_squared_error(y1_validation, poly_reg_y_predicted_validation)\n",
        "print(f'RMSE Train={poly_reg_mse_training}')\n",
        "print(f'RMSE Val={poly_reg_mse_validation}')"
      ],
      "metadata": {
        "colab": {
          "base_uri": "https://localhost:8080/"
        },
        "id": "EZ8AzxFo2Ml5",
        "outputId": "5669a385-a00a-4bf3-b603-43cb02fc3386"
      },
      "execution_count": 41,
      "outputs": [
        {
          "output_type": "stream",
          "name": "stdout",
          "text": [
            "RMSE Train=0.19360580710649547\n",
            "RMSE Val=0.2365913877144489\n"
          ]
        }
      ]
    },
    {
      "cell_type": "markdown",
      "source": [
        "Compared to Linear regression, Polynomial regression is much better at mapping non-linear spaces (thanks to higher degree variables). It can be clearly observed by comparing the RMSE for both methods. Simply increasing the degree of polynomial by 1 alowed us to decrease error by ~50%."
      ],
      "metadata": {
        "id": "OhrBtKz84uAI"
      }
    },
    {
      "cell_type": "markdown",
      "source": [
        "***Task5***"
      ],
      "metadata": {
        "id": "IO5QdJaw5NTw"
      }
    },
    {
      "cell_type": "code",
      "source": [
        "from sklearn.linear_model import LogisticRegression\n",
        "from sklearn.metrics import accuracy_score"
      ],
      "metadata": {
        "id": "2Hqo89M05Orh"
      },
      "execution_count": null,
      "outputs": []
    },
    {
      "cell_type": "code",
      "source": [
        "#performing thresholding (if quality > 5)\n",
        "y_class = y.apply(lambda x: 1 if x > 5.8 else 0)\n",
        "\n",
        "#splitting the data with modified y\n",
        "X_train, X_test, y_class_train, y_class_test = train_test_split(X1_normalized,y_class,test_size = 0.3,random_state = 42)\n",
        "X_train1, X_val, y_class_train1, y_class_val = train_test_split(X_train,y_class_train,test_size = 0.3,random_state = 42)\n",
        "\n",
        "#creating logistic regression model\n",
        "clf = sklearn.linear_model.LogisticRegression()\n",
        "\n",
        "#gitting\n",
        "clf.fit(X_train1,y_class_train1)\n",
        "\n",
        "#predicting\n",
        "y_class_pred_train = clf.predict(X_train1)\n",
        "y_class_pred = clf.predict(X_val)\n",
        "\n",
        "#RME\n",
        "rme_training_clf=sklearn.metrics.mean_squared_error(y_class_train1,y_class_pred_train)\n",
        "rme_val_clf=sklearn.metrics.mean_squared_error(y_class_val,y_class_pred)\n",
        "print(f'RMSE Train={rme_training_clf}')\n",
        "print(f'RMSE Val={rme_val_clf}')\n",
        "\n",
        "#accuracy\n",
        "acc_train_clf = accuracy_score(y_class_train1, y_class_pred_train)\n",
        "acc_val_clf = accuracy_score(y_class_val, y_class_pred)\n",
        "print(f'acc_train_clf={acc_train_clf}')\n",
        "print(f'acc_val_clf={acc_val_clf}')"
      ],
      "metadata": {
        "colab": {
          "base_uri": "https://localhost:8080/"
        },
        "id": "aB1mhguB5xN-",
        "outputId": "3fed354d-3ccb-4df2-ffdc-9add7ecbf538"
      },
      "execution_count": 43,
      "outputs": [
        {
          "output_type": "stream",
          "name": "stdout",
          "text": [
            "RMSE Train=0.25287356321839083\n",
            "RMSE Val=0.23511904761904762\n",
            "acc_train_clf=0.7471264367816092\n",
            "acc_val_clf=0.7648809523809523\n"
          ]
        }
      ]
    },
    {
      "cell_type": "markdown",
      "source": [
        "***Task6***"
      ],
      "metadata": {
        "id": "ZK10uQ0U-ur3"
      }
    },
    {
      "cell_type": "code",
      "source": [
        "#selecting the wanted features\n",
        "selected_columns=['alcohol', 'volatile acidity', 'total sulfur dioxide', 'sulphates']\n",
        "selected_columns2=['pH', 'free sulfur dioxide', 'residual sugar', 'fixed acidity']\n",
        "\n",
        "#choosing selected columns, and saving them into a new dataset\n",
        "X2=X1_normalized[selected_columns]\n",
        "X3=X1_normalized[selected_columns2]\n",
        "\n",
        "#checking if everything is ok\n",
        "#X2.head()\n",
        "#X3.head()\n",
        "\n",
        "#splitting the data into train/test\n",
        "X2_train, X2_test, y2_class_train, y2_test = train_test_split(X2,y_class,test_size = 0.3,random_state = 42)\n",
        "X3_train, X3_test, y3_class_train, y3_test = train_test_split(X3,y_class,test_size = 0.3,random_state = 42)\n",
        "\n",
        "#creating regression models\n",
        "clf2 = sklearn.linear_model.LogisticRegression()\n",
        "clf3 = sklearn.linear_model.LogisticRegression()\n",
        "\n",
        "#fitting\n",
        "clf2.fit(X2_train,y2_class_train)\n",
        "clf3.fit(X3_train,y3_class_train)\n",
        "\n",
        "#predicting\n",
        "y2_class_pred_train = clf2.predict(X2_train)\n",
        "y2_class_pred_test = clf2.predict(X2_test)\n",
        "y3_class_pred_train = clf3.predict(X3_train)\n",
        "y3_class_pred_test = clf3.predict(X3_test)\n",
        "\n",
        "#checking accuracy\n",
        "acc_train_clf2 = accuracy_score(y2_class_train, y2_class_pred_train)\n",
        "acc_test_clf2 = accuracy_score(y2_test, y2_class_pred_test)\n",
        "acc_train_clf3 = accuracy_score(y3_class_train, y3_class_pred_train)\n",
        "acc_test_clf3 = accuracy_score(y3_test, y3_class_pred_test)\n",
        "print(f'acc_train_clf2= {acc_train_clf2}')\n",
        "print(f'acc_test_clf2= {acc_test_clf2}')\n",
        "print(f'acc_train_clf3= {acc_train_clf3}')\n",
        "print(f'acc_test_clf3= {acc_test_clf3}')"
      ],
      "metadata": {
        "colab": {
          "base_uri": "https://localhost:8080/"
        },
        "id": "8W9vjMAU-wCW",
        "outputId": "deb8be22-e71c-4529-98c3-18b1ba366c05"
      },
      "execution_count": 47,
      "outputs": [
        {
          "output_type": "stream",
          "name": "stdout",
          "text": [
            "acc_train_clf2= 0.7542448614834674\n",
            "acc_test_clf2= 0.7125\n",
            "acc_train_clf3= 0.5576407506702413\n",
            "acc_test_clf3= 0.575\n"
          ]
        }
      ]
    },
    {
      "cell_type": "markdown",
      "source": [
        "The 1st feature set allows us to obtain significantly (~20%) higher accuracy"
      ],
      "metadata": {
        "id": "b0juuXG9ANFf"
      }
    },
    {
      "cell_type": "markdown",
      "source": [
        "***Task7***"
      ],
      "metadata": {
        "id": "QYHI4zqZAXB0"
      }
    },
    {
      "cell_type": "code",
      "source": [
        "from sklearn.svm import SVC"
      ],
      "metadata": {
        "id": "cBQ9IIWzAWj9"
      },
      "execution_count": null,
      "outputs": []
    },
    {
      "cell_type": "code",
      "source": [
        "#splitting the data\n",
        "X_svm_train, X_svm_test, y_svm_train, y_svm_test = train_test_split(X1_normalized,y,test_size = 0.3,random_state = 42)\n",
        "\n",
        "#creating SVM classifiers with different kernels\n",
        "svm_classifier = sklearn.svm.SVC(kernel='linear')\n",
        "svm_classifier2 = sklearn.svm.SVC(kernel='poly')\n",
        "\n",
        "#training the classifiers\n",
        "svm_classifier.fit(X_svm_train, y_svm_train)\n",
        "svm_classifier2.fit(X_svm_train, y_svm_train)\n",
        "\n",
        "#predicting\n",
        "y_pred_train = svm_classifier.predict(X_svm_train)\n",
        "y_pred_test = svm_classifier.predict(X_svm_test)\n",
        "y_pred_train2 = svm_classifier.predict(X_svm_train)\n",
        "y_pred_test2 = svm_classifier.predict(X_svm_test)\n",
        "\n",
        "#checking accuracy\n",
        "acc_train_svm = accuracy_score(y_svm_train, y_pred_train)\n",
        "acc_test_svm = accuracy_score(y_svm_test, y_pred_test)\n",
        "acc_train_svm2 = accuracy_score(y_svm_train, y_pred_train2)\n",
        "acc_test_svm2 = accuracy_score(y_svm_test, y_pred_test2)\n",
        "print(f'y_pred_train  {acc_train_svm}')\n",
        "print(f'y_pred_test  {acc_test_svm}')\n",
        "print(f'y_pred_train2  {acc_train_svm2}')\n",
        "print(f'y_pred_test2  {acc_test_svm2}')"
      ],
      "metadata": {
        "colab": {
          "base_uri": "https://localhost:8080/"
        },
        "id": "1Oq0n3bEAxrn",
        "outputId": "76a14e5e-2172-4530-8313-5be08d444fe4"
      },
      "execution_count": 51,
      "outputs": [
        {
          "output_type": "stream",
          "name": "stdout",
          "text": [
            "y_pred_train  0.5969615728328865\n",
            "y_pred_test  0.5520833333333334\n",
            "y_pred_train2  0.5969615728328865\n",
            "y_pred_test2  0.5520833333333334\n"
          ]
        }
      ]
    },
    {
      "cell_type": "markdown",
      "source": [
        "The choice of a correct kernel parameter may significantly impact its ability to classify data. For example, linear will work well for linearly separable data, but if it isn't linearly separable the same choice will result in very poor performance"
      ],
      "metadata": {
        "id": "fCFEf8mcDO9m"
      }
    },
    {
      "cell_type": "markdown",
      "source": [
        "***Task8***"
      ],
      "metadata": {
        "id": "H91BJygIDvQe"
      }
    },
    {
      "cell_type": "code",
      "source": [
        "from sklearn.neural_network import MLPClassifier"
      ],
      "metadata": {
        "id": "beBvMbgaDxQN"
      },
      "execution_count": 52,
      "outputs": []
    },
    {
      "cell_type": "code",
      "source": [
        "# Creating the MLP classifier with custom parameters\n",
        "MLP3 = MLPClassifier(hidden_layer_sizes=(64, 64), activation='relu', solver='adam', alpha=0.0001,\n",
        "                    batch_size='auto', learning_rate='constant', learning_rate_init=0.01,\n",
        "                    max_iter=500, random_state=42)\n",
        "\n",
        "#splitting the data into train, test, validation with proportions: 49,30,21, using random_state=42 to maintain repeatability\n",
        "X_train, X_test, y_train, y_test = train_test_split(X1_normalized,y,test_size = 0.3,random_state = 42)\n",
        "X_train1, X_val, y_train1, y_val = train_test_split(X_train,y_train,test_size = 0.3,random_state = 42)\n",
        "\n",
        "# Training the MLP classifier\n",
        "MLP3.fit(X_train1, y_train1)\n",
        "\n",
        "# Making predictions\n",
        "y_pred_train_MLP3 = MLP3.predict(X_train1)\n",
        "y_pred_test_MLP3 = MLP3.predict(X_test)\n",
        "\n",
        "# Calculating accuracy\n",
        "acc_train_MLP3 = accuracy_score(y_train1, y_pred_train_MLP3)\n",
        "acc_test_MLP3 = accuracy_score(y_test, y_pred_test_MLP3)\n",
        "print(f\"Accuracy train: {acc_train_MLP3}\")\n",
        "print(f\"Accuracy train: {acc_test_MLP3}\")"
      ],
      "metadata": {
        "colab": {
          "base_uri": "https://localhost:8080/"
        },
        "id": "RXSk3H8KDxwx",
        "outputId": "e0db357b-58d5-4c64-ef7f-6b25900e2234"
      },
      "execution_count": 61,
      "outputs": [
        {
          "output_type": "stream",
          "name": "stdout",
          "text": [
            "Accuracy train: 0.7509578544061303\n",
            "Accuracy train: 0.5833333333333334\n"
          ]
        }
      ]
    },
    {
      "cell_type": "markdown",
      "source": [
        "***Task9***"
      ],
      "metadata": {
        "id": "7oEHYlYBGDL1"
      }
    },
    {
      "cell_type": "code",
      "source": [
        "from sklearn.neighbors import KNeighborsClassifier"
      ],
      "metadata": {
        "id": "qx8o4RbKGEtZ"
      },
      "execution_count": 64,
      "outputs": []
    },
    {
      "cell_type": "code",
      "source": [
        "# Creating the KNN classifier\n",
        "knn = KNeighborsClassifier(n_neighbors=2, weights='uniform', algorithm='auto', p=2)\n",
        "\n",
        "# Training the KNN classifier\n",
        "knn.fit(X_train1, y_train1)\n",
        "\n",
        "# Making predictions on the test set\n",
        "y_pred_train_KNN = knn.predict(X_train1)\n",
        "y_pred_test_KNN = knn.predict(X_test)\n",
        "\n",
        "# Calculating accuracy\n",
        "acc_train_KNN = accuracy_score(y_train1, y_pred_train_KNN)\n",
        "acc_test_KNN = accuracy_score(y_test, y_pred_test_KNN)\n",
        "print(f\"Accuracy train: {acc_train_KNN}\")\n",
        "print(f\"Accuracy train: {acc_test_KNN}\")"
      ],
      "metadata": {
        "colab": {
          "base_uri": "https://localhost:8080/"
        },
        "id": "Llu7siTaGIbv",
        "outputId": "588e57f8-1b7b-4f2d-a667-385a6cb5e17d"
      },
      "execution_count": 80,
      "outputs": [
        {
          "output_type": "stream",
          "name": "stdout",
          "text": [
            "Accuracy train: 0.8058748403575989\n",
            "Accuracy train: 0.5708333333333333\n"
          ]
        }
      ]
    },
    {
      "cell_type": "markdown",
      "source": [
        "***Task10***"
      ],
      "metadata": {
        "id": "Wwtl-O5gHIIw"
      }
    },
    {
      "cell_type": "code",
      "source": [
        "#modifying parameters"
      ],
      "metadata": {
        "id": "cw2E7sRYHIvz"
      },
      "execution_count": 82,
      "outputs": []
    },
    {
      "cell_type": "code",
      "source": [
        "weights=['uniform', 'distance']\n",
        "\n",
        "\n",
        "acc_train_saved_in_each_iter = [[[0 for _ in range(30)] for _ in range(len(weights))] for _ in range(10)]\n",
        "acc_test_saved_in_each_iter = [[[0 for _ in range(30)] for _ in range(len(weights))] for _ in range(10)]\n",
        "for i in range(10):\n",
        "  for j in range(len(weights)):\n",
        "    for k in range(30):\n",
        "      # Creating the KNN classifier\n",
        "      knn = KNeighborsClassifier(n_neighbors=i+2, weights=weights[j], algorithm='auto', leaf_size=k+10, p=2)\n",
        "\n",
        "      # Training the KNN classifier\n",
        "      knn.fit(X_train1, y_train1)\n",
        "\n",
        "      # Making predictions on the test set\n",
        "      y_pred_train_KNN = knn.predict(X_train1)\n",
        "      y_pred_test_KNN = knn.predict(X_test)\n",
        "\n",
        "      # Calculating accuracy\n",
        "      acc_train_KNN = accuracy_score(y_train1, y_pred_train_KNN)\n",
        "      acc_test_KNN = accuracy_score(y_test, y_pred_test_KNN)\n",
        "      acc_train_saved_in_each_iter[i][j][k]=acc_train_KNN\n",
        "      acc_test_saved_in_each_iter[i][j][k]=acc_test_KNN"
      ],
      "metadata": {
        "id": "wDdf8hE-HNU0"
      },
      "execution_count": 92,
      "outputs": []
    },
    {
      "cell_type": "markdown",
      "source": [
        "The for loop iterates through values of n_neighbours, leaf_size and weights and saves the accuracy of each configuration. We can now check which configuration had the best performance."
      ],
      "metadata": {
        "id": "1IznQNtDKVH7"
      }
    },
    {
      "cell_type": "code",
      "source": [
        "#finding idexes of the min and max\n",
        "\n",
        "#converting to NumPy array\n",
        "acc_train_saved_in_each_iter_num = np.array(acc_train_saved_in_each_iter)\n",
        "acc_test_saved_in_each_iter_num = np.array(acc_test_saved_in_each_iter)\n",
        "\n",
        "min_index_train = np.unravel_index(np.argmin(acc_train_saved_in_each_iter_num), acc_train_saved_in_each_iter_num.shape)\n",
        "max_index_train = np.unravel_index(np.argmax(acc_train_saved_in_each_iter_num), acc_train_saved_in_each_iter_num.shape)\n",
        "\n",
        "min_index_test = np.unravel_index(np.argmin(acc_test_saved_in_each_iter_num), acc_test_saved_in_each_iter_num.shape)\n",
        "max_index_test = np.unravel_index(np.argmax(acc_test_saved_in_each_iter_num), acc_test_saved_in_each_iter_num.shape)\n",
        "\n",
        "print('Min train: ', min_index_train)\n",
        "print('Max train: ', max_index_train)\n",
        "print('Min test: ', min_index_test)\n",
        "print('Max test: ', max_index_test)"
      ],
      "metadata": {
        "colab": {
          "base_uri": "https://localhost:8080/"
        },
        "id": "R1hXPfEVLSB6",
        "outputId": "bb96ade8-921e-4b4a-a4cb-675e210f2a85"
      },
      "execution_count": 93,
      "outputs": [
        {
          "output_type": "stream",
          "name": "stdout",
          "text": [
            "Min train:  (9, 0, 0)\n",
            "Max train:  (0, 1, 0)\n",
            "Min test:  (1, 0, 0)\n",
            "Max test:  (3, 1, 0)\n"
          ]
        }
      ]
    },
    {
      "cell_type": "code",
      "source": [
        "#best accuracy training\n",
        "acc_train_saved_in_each_iter_num[2][0][5]"
      ],
      "metadata": {
        "colab": {
          "base_uri": "https://localhost:8080/"
        },
        "id": "fl4fSWGxM8bR",
        "outputId": "eec8ef7c-2c14-47cb-8e67-ae911f85dd55"
      },
      "execution_count": 109,
      "outputs": [
        {
          "output_type": "execute_result",
          "data": {
            "text/plain": [
              "0.7241379310344828"
            ]
          },
          "metadata": {},
          "execution_count": 109
        }
      ]
    },
    {
      "cell_type": "code",
      "source": [
        "#best accuracy testing\n",
        "acc_train_saved_in_each_iter_num[2][0][5]"
      ],
      "metadata": {
        "colab": {
          "base_uri": "https://localhost:8080/"
        },
        "id": "IGa07KN3NDKa",
        "outputId": "a6402b33-f0fd-4acc-908c-786976a7af75"
      },
      "execution_count": 112,
      "outputs": [
        {
          "output_type": "execute_result",
          "data": {
            "text/plain": [
              "0.7241379310344828"
            ]
          },
          "metadata": {},
          "execution_count": 112
        }
      ]
    },
    {
      "cell_type": "markdown",
      "source": [
        "Best performance on the training dataset was obtained using distance weights with leaf size 11 and n=2\n",
        "\n",
        "Best performance on the testing dataset was obtained using distance weights with leaf size 11 and n=5"
      ],
      "metadata": {
        "id": "dygoIXHMMgL1"
      }
    },
    {
      "cell_type": "markdown",
      "source": [
        "***Task11***"
      ],
      "metadata": {
        "id": "nvnkC9ilN2tH"
      }
    },
    {
      "cell_type": "markdown",
      "source": [
        "I'm choosing MLP classifier"
      ],
      "metadata": {
        "id": "l2dFK7ZCOGJL"
      }
    },
    {
      "cell_type": "code",
      "source": [
        "# Creating the MLP classifier with custom parameters\n",
        "MLP3 = MLPClassifier(hidden_layer_sizes=(64, 64), activation='relu', solver='adam', alpha=0.0001,\n",
        "                    batch_size='auto', learning_rate='constant', learning_rate_init=0.01,\n",
        "                    max_iter=500, random_state=42)\n",
        "\n",
        "#splitting the data into train, test, validation with proportions: 49,30,21, using random_state=42 to maintain repeatability\n",
        "X_train, X_test, y_train, y_test = train_test_split(X1_normalized,y,test_size = 0.3,random_state = 42)\n",
        "X_train1, X_val, y_train1, y_val = train_test_split(X_train,y_train,test_size = 0.3,random_state = 42)\n",
        "\n",
        "# Retraining the MLP on combined training and test data\n",
        "X_train_combined = np.concatenate((X_train1, X_test))\n",
        "y_train_combined = np.concatenate((y_train1, y_test))\n",
        "MLP3.fit(X_train_combined, y_train_combined)\n",
        "\n",
        "# Making predictions\n",
        "y_pred_val_MLP3 = MLP3.predict(X_val)\n",
        "\n",
        "# Calculating accuracy\n",
        "acc_val_MLP3 = accuracy_score(y_val, y_pred_val_MLP3)\n",
        "print(f\"Accuracy val: {acc_val_MLP3}\")"
      ],
      "metadata": {
        "colab": {
          "base_uri": "https://localhost:8080/"
        },
        "id": "te7aDLZYN14y",
        "outputId": "9c3e0c7b-5f7a-4dd1-dd31-5be46e4600d0"
      },
      "execution_count": 113,
      "outputs": [
        {
          "output_type": "stream",
          "name": "stdout",
          "text": [
            "Accuracy val: 0.5625\n"
          ]
        },
        {
          "output_type": "stream",
          "name": "stderr",
          "text": [
            "/usr/local/lib/python3.10/dist-packages/sklearn/base.py:432: UserWarning: X has feature names, but MLPClassifier was fitted without feature names\n",
            "  warnings.warn(\n"
          ]
        }
      ]
    },
    {
      "cell_type": "markdown",
      "source": [
        "The performance on the validation dataset after training on both training and testing dataset is similar to the performance on training dataset.\n",
        "\n",
        "However, using this approach (combining training and testing) can lead to overfitting as the model might become overly tailored to the specific characteristics of the combined sets."
      ],
      "metadata": {
        "id": "Jdg2irIOPAbO"
      }
    },
    {
      "cell_type": "markdown",
      "source": [
        "***Task12***"
      ],
      "metadata": {
        "id": "pQlgmFIQPrxr"
      }
    },
    {
      "cell_type": "code",
      "source": [
        "from sklearn.pipeline import Pipeline\n",
        "from sklearn.preprocessing import StandardScaler"
      ],
      "metadata": {
        "id": "RF1XpKSdPt_Y"
      },
      "execution_count": 115,
      "outputs": []
    },
    {
      "cell_type": "code",
      "source": [
        "\n",
        "\n",
        "# Splitting the data into train and test sets\n",
        "\n",
        "# Create a pipeline with scaler and MLP classifier\n",
        "clf = Pipeline([\n",
        "    (\"scaler\", StandardScaler()),\n",
        "    (\"mlp\", MLPClassifier(max_iter=1000, solver='sgd'))\n",
        "])\n",
        "\n",
        "# Modify parameters of MLPClassifier within the pipeline\n",
        "clf.set_params(mlp__hidden_layer_sizes=(128, 64), mlp__activation='relu', mlp__alpha=0.1)\n",
        "\n",
        "# Fit the pipeline on the training data\n",
        "clf.fit(X_train1, y_train1)\n",
        "clf2=clf[-1:].fit(X_train1, y_train1)\n",
        "# Predict on the test set\n",
        "y_pred = clf.predict(X_test)\n",
        "y_pred2 = clf2.predict(X_test)\n",
        "# Calculate accuracy\n",
        "acc_pip_sc = accuracy_score(y_test, y_pred)\n",
        "acc_pip_no_sc = accuracy_score(y_test, y_pred)\n",
        "print(f\"Accuracy without feature scaling: {acc_pip_no_sc}\")\n",
        "print(f\"Accuracy with feature scaling: {acc_pip_sc}\")"
      ],
      "metadata": {
        "colab": {
          "base_uri": "https://localhost:8080/"
        },
        "id": "X7y6lCqEP4Ew",
        "outputId": "1a68ab34-9a4c-4196-a700-dd08c52ebd4b"
      },
      "execution_count": 128,
      "outputs": [
        {
          "output_type": "stream",
          "name": "stderr",
          "text": [
            "/usr/local/lib/python3.10/dist-packages/sklearn/neural_network/_multilayer_perceptron.py:686: ConvergenceWarning: Stochastic Optimizer: Maximum iterations (1000) reached and the optimization hasn't converged yet.\n",
            "  warnings.warn(\n"
          ]
        },
        {
          "output_type": "stream",
          "name": "stdout",
          "text": [
            "Accuracy without feature scaling: 0.46875\n",
            "Accuracy with feature scaling: 0.46875\n"
          ]
        },
        {
          "output_type": "stream",
          "name": "stderr",
          "text": [
            "/usr/local/lib/python3.10/dist-packages/sklearn/base.py:439: UserWarning: X does not have valid feature names, but MLPClassifier was fitted with feature names\n",
            "  warnings.warn(\n"
          ]
        }
      ]
    },
    {
      "cell_type": "markdown",
      "source": [
        "***Task14***"
      ],
      "metadata": {
        "id": "eG2EgPc9UafO"
      }
    },
    {
      "cell_type": "code",
      "source": [
        "#preparing data for splitting, taking \"quality\" as dependant variable, and all the others as independant.\n",
        "#using DataFrame.loc to Access a group of rows and columns by labels\n",
        "X1=data.loc[:,data.columns != 'pH' ]\n",
        "y=data['pH']\n",
        "\n",
        "#nurmalizing the data for better readability\n",
        "minmax_scaler = MinMaxScaler().set_output(transform=\"pandas\")\n",
        "X1_normalized = minmax_scaler.fit_transform(X1)\n",
        "#X1_normalized.head()\n",
        "\n",
        "#splitting the data into train, test, validation with proportions: 49,30,21, using random_state=42 to maintain repeatability\n",
        "X_train, X_test, y_train, y_test = train_test_split(X1_normalized,y,test_size = 0.3,random_state = 42)\n",
        "X_train1, X_val, y_train1, y_val = train_test_split(X_train,y_train,test_size = 0.3,random_state = 42)\n",
        "\n",
        "#LR\n",
        "\n",
        "#creating the regressor\n",
        "lin_reg = LinearRegression()\n",
        "\n",
        "#fitting the curve\n",
        "lin_reg.fit(X_train1, y_train1)\n",
        "\n",
        "#predicting the results on training data\n",
        "y_pred_train_lin = lin_reg.predict(X_train1)\n",
        "\n",
        "#predicting the results on validation data\n",
        "y_pred_val_lin = lin_reg.predict(X_val)\n",
        "\n",
        "#calculating RMSE for both predictions\n",
        "rme_training_lin = sklearn.metrics.mean_squared_error(y_train1,y_pred_train_lin)\n",
        "rme_val_lin = sklearn.metrics.mean_squared_error(y_val,y_pred_val_lin)\n",
        "print(f'RMSE Train LR={rme_training_lin}')\n",
        "print(f'RMSE Val LR={rme_val_lin}')\n",
        "\n",
        "#NN\n",
        "\n",
        "#defining parameters\n",
        "reg_MLP2 = MLPRegressor(hidden_layer_sizes=(128,64), random_state=1,\n",
        "max_iter=2000, solver='sgd',activation='relu',learning_rate='adaptive',early_stopping=True,validation_fraction=0.3)\n",
        "\n",
        "#fitting\n",
        "reg_MLP2.fit(X_train1, y_train1)\n",
        "\n",
        "#predicting\n",
        "y_pred_train_MLP2 = reg_MLP2.predict(X_train1)\n",
        "y_pred_MLP2 = reg_MLP2.predict(X_val)\n",
        "\n",
        "#calculating results and displaying them\n",
        "rme_training_MLP2=sklearn.metrics.mean_squared_error(y_train1,y_pred_train_MLP2)\n",
        "rme_val_MLP2=sklearn.metrics.mean_squared_error(y_val,y_pred_MLP2)\n",
        "print(f'rme_training_mod={rme_training_MLP2}')\n",
        "print(f'rme_val_mod={rme_val_MLP2}')"
      ],
      "metadata": {
        "colab": {
          "base_uri": "https://localhost:8080/"
        },
        "id": "XlTaJD7oUbu1",
        "outputId": "af141472-7438-4c43-b62f-acc2f30abbba"
      },
      "execution_count": 133,
      "outputs": [
        {
          "output_type": "stream",
          "name": "stdout",
          "text": [
            "RMSE Train LR=0.007564081390161589\n",
            "RMSE Val LR=0.0069734135884691895\n",
            "rme_training_mod=0.00881837772977843\n",
            "rme_val_mod=0.008733378019591294\n"
          ]
        }
      ]
    },
    {
      "cell_type": "markdown",
      "source": [
        "From the results it is clear, that the pH has low correlation with majority of the independent features. The feature space is most likely very difficult to optimize.\n",
        "\n"
      ],
      "metadata": {
        "id": "jhlWKkTVVnsl"
      }
    },
    {
      "cell_type": "code",
      "source": [
        "f = plt.figure(figsize=(15, 15))\n",
        "plt.matshow(data.corr(), fignum=f.number)\n",
        "plt.xticks(range(data.select_dtypes(['number']).shape[1]), data.select_dtypes(['number']).columns, fontsize=14, rotation=45)\n",
        "plt.yticks(range(data.select_dtypes(['number']).shape[1]), data.select_dtypes(['number']).columns, fontsize=14)\n",
        "cb = plt.colorbar()\n",
        "cb.ax.tick_params(labelsize=14)\n",
        "plt.title('Correlation Matrix', fontsize=16);"
      ],
      "metadata": {
        "colab": {
          "base_uri": "https://localhost:8080/",
          "height": 1000
        },
        "id": "C48ssUw5V3oJ",
        "outputId": "5c0ca1ac-69f6-44c7-c0a9-6cbeb50790cd"
      },
      "execution_count": 139,
      "outputs": [
        {
          "output_type": "display_data",
          "data": {
            "text/plain": [
              "<Figure size 1500x1500 with 2 Axes>"
            ],
            "image/png": "[encoded data removed]"
          },
          "metadata": {}
        }
      ]
    }
  ]
}