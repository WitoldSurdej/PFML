{
  "nbformat": 4,
  "nbformat_minor": 0,
  "metadata": {
    "colab": {
      "provenance": [],
      "authorship_tag": "ABX9TyN14fK8a+WqpZg84gDPyrKZ",
      "include_colab_link": true
    },
    "kernelspec": {
      "name": "python3",
      "display_name": "Python 3"
    },
    "language_info": {
      "name": "python"
    }
  },
  "cells": [
    {
      "cell_type": "markdown",
      "metadata": {
        "id": "view-in-github",
        "colab_type": "text"
      },
      "source": [
        "<a href=\"https://colab.research.google.com/github/WitoldSurdej/PFML/blob/for_variant/Lab2task2.ipynb\" target=\"_parent\"><img src=\"https://colab.research.google.com/assets/colab-badge.svg\" alt=\"Open In Colab\"/></a>"
      ]
    },
    {
      "cell_type": "code",
      "execution_count": 3,
      "metadata": {
        "id": "c72Q0QY5f48t"
      },
      "outputs": [],
      "source": [
        "list1=[1, 2, 3, 4, 5, 6, 7, 8, 9, 0]\n",
        "list2=[0, 9, 8, 7, 6, 5, 4, 3, 2, 1]\n"
      ]
    },
    {
      "cell_type": "code",
      "source": [
        "for i in range(len(list1)):\n",
        "  print(f'{i+1} element of the list is {list1[i]}')"
      ],
      "metadata": {
        "colab": {
          "base_uri": "https://localhost:8080/"
        },
        "id": "aAmsAlokhkx-",
        "outputId": "01b2bbee-32bc-456b-9643-fde57d80b22f"
      },
      "execution_count": 12,
      "outputs": [
        {
          "output_type": "stream",
          "name": "stdout",
          "text": [
            "1 element of the list is 1\n",
            "2 element of the list is 2\n",
            "3 element of the list is 3\n",
            "4 element of the list is 4\n",
            "5 element of the list is 5\n",
            "6 element of the list is 6\n",
            "7 element of the list is 7\n",
            "8 element of the list is 8\n",
            "9 element of the list is 9\n",
            "10 element of the list is 0\n"
          ]
        }
      ]
    }
  ]
}